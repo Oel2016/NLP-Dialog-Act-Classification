{
 "cells": [
  {
   "cell_type": "markdown",
   "metadata": {},
   "source": [
    "### Second Notebook : Keras Embedding + BiLSTM Model "
   ]
  },
  {
   "cell_type": "code",
   "execution_count": 10,
   "metadata": {},
   "outputs": [],
   "source": [
    "#Importing Libraries\n",
    "import re\n",
    "import numpy as np\n",
    "import pandas as pd\n",
    "from matplotlib.pyplot import *\n",
    "import keras\n",
    "from keras.models import load_model\n",
    "from keras.layers import *\n",
    "from keras.preprocessing.text import Tokenizer \n",
    "from keras.preprocessing.sequence import pad_sequences\n",
    "from keras.layers import *\n",
    "from keras import layers"
   ]
  },
  {
   "cell_type": "markdown",
   "metadata": {},
   "source": [
    "##### Utility Function for data processing "
   ]
  },
  {
   "cell_type": "code",
   "execution_count": 2,
   "metadata": {},
   "outputs": [],
   "source": [
    "def processing(data):\n",
    "    data['Utterances'] = data['Utterances'].apply(lambda x: x.lower())\n",
    "    data['Utterances'] = data['Utterances'].apply(lambda x: re.sub('[^a-zA-z0-9\\s]','',x))\n",
    "\n",
    "    y = pd.get_dummies(data['Basic']).values\n",
    "\n",
    "    return data,y"
   ]
  },
  {
   "cell_type": "code",
   "execution_count": 4,
   "metadata": {},
   "outputs": [],
   "source": [
    "data=pd.read_csv('../Datasets/MRDA/mrda_data/full_set.txt', sep='|')\n",
    "data.columns=['Speaker','Utterances','Basic','General','Full']\n",
    "MAX_PADDING = 100\n",
    "\n",
    "def get_x_val(data):  # utility function: tockenize and get X\n",
    "    tokenizer = Tokenizer(num_words = 5000, split=\" \")\n",
    "    tokenizer.fit_on_texts(data['Utterances'].values)\n",
    "    x = tokenizer.texts_to_sequences(data['Utterances'].values)\n",
    "    x = pad_sequences(x, padding='post', maxlen=MAX_PADDING)\n",
    "    \n",
    "    return x"
   ]
  },
  {
   "cell_type": "code",
   "execution_count": 5,
   "metadata": {},
   "outputs": [],
   "source": [
    "train_data = pd.read_csv('../Datasets/MRDA/mrda_data/full_set.txt', sep='|')\n",
    "train_data.columns=['Speaker','Utterances','Basic','General','Full']\n",
    "train_data,y_train = processing(train_data)\n",
    "x_train = get_x_val(train_data)\n",
    "\n",
    "val_data = pd.read_csv('../Datasets/MRDA/mrda_data/train_set.txt', sep='|')\n",
    "val_data.columns=['Speaker','Utterances','Basic','General','Full']\n",
    "val_data,y_val = processing(val_data)\n",
    "x_val = get_x_val(val_data)\n",
    "\n",
    "test_data = pd.read_csv('../Datasets/MRDA/mrda_data/test_set.txt', sep='|')\n",
    "test_data.columns=['Speaker','Utterances','Basic','General','Full']\n",
    "test_data,y_test = processing(test_data)\n",
    "x_test = get_x_val(test_data)"
   ]
  },
  {
   "cell_type": "markdown",
   "metadata": {},
   "source": [
    "### Modeling"
   ]
  },
  {
   "cell_type": "code",
   "execution_count": 6,
   "metadata": {},
   "outputs": [],
   "source": [
    "inputs1=Input(shape=(100,))\n",
    "\n",
    "x1=Embedding(input_dim=5000,\n",
    "             output_dim=300,\n",
    "             input_length=100,\n",
    "             embeddings_regularizer=keras.regularizers.l2(.001))(inputs1)\n",
    "\n",
    "x1=Bidirectional(LSTM(units=20,\n",
    "                      dropout=0.3,\n",
    "                      recurrent_dropout=0.2,\n",
    "                      return_sequences = False))(x1)\n",
    "\n",
    "output=Dense(5,activation='softmax')(x1) \n",
    "model=keras.Model(inputs1,output)"
   ]
  },
  {
   "cell_type": "code",
   "execution_count": 7,
   "metadata": {},
   "outputs": [
    {
     "name": "stdout",
     "output_type": "stream",
     "text": [
      "Model: \"model\"\n",
      "_________________________________________________________________\n",
      "Layer (type)                 Output Shape              Param #   \n",
      "=================================================================\n",
      "input_1 (InputLayer)         [(None, 100)]             0         \n",
      "_________________________________________________________________\n",
      "embedding (Embedding)        (None, 100, 300)          1500000   \n",
      "_________________________________________________________________\n",
      "bidirectional (Bidirectional (None, 40)                51360     \n",
      "_________________________________________________________________\n",
      "dense (Dense)                (None, 5)                 205       \n",
      "=================================================================\n",
      "Total params: 1,551,565\n",
      "Trainable params: 1,551,565\n",
      "Non-trainable params: 0\n",
      "_________________________________________________________________\n"
     ]
    }
   ],
   "source": [
    "model.compile(loss='categorical_crossentropy',\n",
    "              optimizer='adam',\n",
    "              metrics=['accuracy'])\n",
    "model.summary()"
   ]
  },
  {
   "cell_type": "code",
   "execution_count": 8,
   "metadata": {},
   "outputs": [
    {
     "name": "stdout",
     "output_type": "stream",
     "text": [
      "Epoch 1/100\n",
      "2346/2346 [==============================] - 317s 134ms/step - loss: 0.7418 - accuracy: 0.7515 - val_loss: 0.7313 - val_accuracy: 0.7527\n",
      "Epoch 2/100\n",
      "2346/2346 [==============================] - 346s 147ms/step - loss: 0.6617 - accuracy: 0.7780 - val_loss: 0.7164 - val_accuracy: 0.7584\n",
      "Epoch 3/100\n",
      "2346/2346 [==============================] - 349s 149ms/step - loss: 0.6494 - accuracy: 0.7830 - val_loss: 0.7058 - val_accuracy: 0.7637\n",
      "Epoch 4/100\n",
      "2346/2346 [==============================] - 333s 142ms/step - loss: 0.6421 - accuracy: 0.7865 - val_loss: 0.7076 - val_accuracy: 0.7652\n",
      "Epoch 5/100\n",
      "2346/2346 [==============================] - 336s 143ms/step - loss: 0.6377 - accuracy: 0.7892 - val_loss: 0.7147 - val_accuracy: 0.7658\n",
      "Epoch 6/100\n",
      "2346/2346 [==============================] - 334s 142ms/step - loss: 0.6369 - accuracy: 0.7883 - val_loss: 0.7008 - val_accuracy: 0.7712\n",
      "Epoch 00006: early stopping\n"
     ]
    }
   ],
   "source": [
    "early_stopping = keras.callbacks.EarlyStopping(monitor='accuracy', \n",
    "                                               mode='auto', \n",
    "                                               patience=1, \n",
    "                                               verbose=1)\n",
    "\n",
    "hist = model.fit(x_train, y_train, \n",
    "          epochs=100, \n",
    "          batch_size=32, \n",
    "          verbose=1,\n",
    "          callbacks=[early_stopping],\n",
    "          validation_data=(x_val, y_val))"
   ]
  },
  {
   "cell_type": "code",
   "execution_count": 9,
   "metadata": {},
   "outputs": [],
   "source": [
    "import matplotlib.pyplot as plt\n",
    "import matplotlib\n",
    "import pandas as pd\n",
    "\n",
    "matplotlib.rcParams['figure.dpi'] = 100\n",
    "\n",
    "\n",
    "def plot(history):\n",
    "    pd.DataFrame(history.history).plot(figsize=(8, 5))\n",
    "    plt.grid(True)\n",
    "    #plt.gca().set_ylim(0,1)\n",
    "    plt.show()"
   ]
  },
  {
   "cell_type": "code",
   "execution_count": 10,
   "metadata": {},
   "outputs": [
    {
     "data": {
      "image/png": "[encoded data removed]",
      "text/plain": [
       "<Figure size 800x500 with 1 Axes>"
      ]
     },
     "metadata": {
      "needs_background": "light"
     },
     "output_type": "display_data"
    }
   ],
   "source": [
    "plot(hist)"
   ]
  },
  {
   "cell_type": "code",
   "execution_count": 11,
   "metadata": {},
   "outputs": [
    {
     "name": "stdout",
     "output_type": "stream",
     "text": [
      "522/522 [==============================] - 9s 18ms/step - loss: 0.6628 - accuracy: 0.7756\n"
     ]
    },
    {
     "data": {
      "text/plain": [
       "[0.6627858281135559, 0.7755823135375977]"
      ]
     },
     "execution_count": 11,
     "metadata": {},
     "output_type": "execute_result"
    }
   ],
   "source": [
    "model.evaluate(x_test, y_test)"
   ]
  },
  {
   "cell_type": "code",
   "execution_count": 9,
   "metadata": {},
   "outputs": [
    {
     "name": "stdout",
     "output_type": "stream",
     "text": [
      "The model accuracy is : 0.77\n"
     ]
    }
   ],
   "source": [
    "print('The model accuracy is : 0.77')"
   ]
  }
 ],
 "metadata": {
  "kernelspec": {
   "display_name": "Python 3",
   "language": "python",
   "name": "python3"
  },
  "language_info": {
   "codemirror_mode": {
    "name": "ipython",
    "version": 3
   },
   "file_extension": ".py",
   "mimetype": "text/x-python",
   "name": "python",
   "nbconvert_exporter": "python",
   "pygments_lexer": "ipython3",
   "version": "3.8.5"
  }
 },
 "nbformat": 4,
 "nbformat_minor": 5
}
