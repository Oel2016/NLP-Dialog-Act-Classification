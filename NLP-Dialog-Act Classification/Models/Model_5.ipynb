{
 "cells": [
  {
   "cell_type": "markdown",
   "metadata": {},
   "source": [
    "### Fifth Notebook :bert embedding + BiLSTM + Attention-based + Context-aware"
   ]
  },
  {
   "cell_type": "code",
   "execution_count": 2,
   "metadata": {
    "id": "kir8XTZZdNnS"
   },
   "outputs": [],
   "source": [
    "import numpy as np\n",
    "import pandas as pd\n",
    "import keras\n",
    "import tensorflow as tf\n",
    "from keras.layers import *\n",
    "import tensorflow_hub as hub\n",
    "import tensorflow_text as text\n",
    "import matplotlib.pyplot as plt\n",
    "import matplotlib"
   ]
  },
  {
   "cell_type": "code",
   "execution_count": 3,
   "metadata": {
    "id": "nmKloo9ueGtw"
   },
   "outputs": [],
   "source": [
    "train_df = pd.read_csv('../Datasets/MRDA/mrda_data/train_set.txt', sep='|')\n",
    "val_df = pd.read_csv('../Datasets/MRDA/mrda_data/val_set.txt', sep='|')\n",
    "test_df = pd.read_csv('../Datasets/MRDA/mrda_data/test_set.txt', sep='|')\n",
    "\n",
    "train_df.columns=['Speaker','Utterances','Basic','General','Full']\n",
    "val_df.columns=['Speaker','Utterances','Basic','General','Full']\n",
    "test_df.columns=['Speaker','Utterances','Basic','General','Full']"
   ]
  },
  {
   "cell_type": "code",
   "execution_count": 4,
   "metadata": {
    "id": "GB72fYRueGwO"
   },
   "outputs": [],
   "source": [
    "x_train = train_df['Utterances'].to_numpy()\n",
    "x_train = np.asarray(x_train).astype(str)\n",
    "y_train = pd.get_dummies(train_df['Basic']).values\n",
    "y_train = np.asarray(y_train).astype('float32')\n",
    "\n",
    "x_val = val_df['Utterances'].to_numpy()\n",
    "x_val = np.asarray(x_val).astype(str)\n",
    "y_val = pd.get_dummies(val_df['Basic']).values\n",
    "y_val = np.asarray(y_val).astype('float32')\n",
    "\n",
    "x_test = test_df['Utterances'].to_numpy()\n",
    "x_test = np.asarray(x_test).astype(str)\n",
    "y_test = pd.get_dummies(test_df['Basic']).values\n",
    "y_test = np.asarray(y_test).astype('float32')"
   ]
  },
  {
   "cell_type": "code",
   "execution_count": 5,
   "metadata": {
    "id": "uU4LBmoteGyp"
   },
   "outputs": [
    {
     "name": "stdout",
     "output_type": "stream",
     "text": [
      "WARNING:tensorflow:Please fix your imports. Module tensorflow.python.training.tracking.data_structures has been moved to tensorflow.python.trackable.data_structures. The old module will be deleted in version 2.11.\n"
     ]
    }
   ],
   "source": [
    "bert_preprocess = hub.KerasLayer(\"https://tfhub.dev/tensorflow/bert_en_uncased_preprocess/3\")\n",
    "bert_encoder = hub.KerasLayer(\"https://tfhub.dev/tensorflow/bert_en_uncased_L-12_H-768_A-12/4\")"
   ]
  },
  {
   "cell_type": "code",
   "execution_count": 6,
   "metadata": {
    "id": "RgN6yEbueG08"
   },
   "outputs": [],
   "source": [
    "### Self Attention layer\n",
    "from keras import layers\n",
    "class TransformerBlock(layers.Layer):\n",
    "    def __init__(self, embed_dim, num_heads, ff_dim, rate=0.1):\n",
    "        super(TransformerBlock, self).__init__()\n",
    "        self.att = layers.MultiHeadAttention(num_heads=num_heads,\n",
    "                                             key_dim=embed_dim)\n",
    "        self.ffn = keras.Sequential([\n",
    "            layers.Dense(ff_dim, activation=\"relu\"),\n",
    "            layers.Dense(embed_dim),\n",
    "        ])\n",
    "        self.layernorm1 = layers.LayerNormalization(epsilon=1e-6)\n",
    "        self.layernorm2 = layers.LayerNormalization(epsilon=1e-6)\n",
    "        self.dropout1 = layers.Dropout(rate)\n",
    "        self.dropout2 = layers.Dropout(rate)\n",
    "\n",
    "    def call(self, inputs, training):\n",
    "        attn_output = self.att(inputs, inputs)  # self-attention layer\n",
    "        attn_output = self.dropout1(attn_output, training=training)\n",
    "        out1 = self.layernorm1(inputs + attn_output)  # layer norm\n",
    "        ffn_output = self.ffn(out1)  #feed-forward layer\n",
    "        ffn_output = self.dropout2(ffn_output, training=training)\n",
    "        return self.layernorm2(out1 + ffn_output)  # layer norm"
   ]
  },
  {
   "cell_type": "code",
   "execution_count": 7,
   "metadata": {
    "id": "f74jJA1BfxB0"
   },
   "outputs": [],
   "source": [
    "### Hyperparameters\n",
    "embed_dim = 128\n",
    "num_heads = 5\n",
    "ff_dim = 32"
   ]
  },
  {
   "cell_type": "code",
   "execution_count": 8,
   "metadata": {
    "id": "u-CkOz20eG3m"
   },
   "outputs": [],
   "source": [
    "### Bert encoding layers\n",
    "text_input = Input(shape=(),dtype=tf.string,name='Text')\n",
    "preprocess_text = bert_preprocess(text_input)\n",
    "encode_output = bert_encoder(preprocess_text)['encoder_outputs'][11]#output of the last encoded layer\n",
    "\n",
    "### bilstm\n",
    "bilstm = Bidirectional(LSTM(\n",
    "    units=64,\n",
    "    dropout=0.2,\n",
    "    return_sequences=True))(encode_output)\n",
    "\n",
    "### Attention layer\n",
    "att = TransformerBlock(embed_dim, num_heads, ff_dim)(bilstm)\n",
    "pool = GlobalAveragePooling1D()(att)\n",
    "\n",
    "###Output\n",
    "output = Dense(5,activation='softmax')(pool)"
   ]
  },
  {
   "cell_type": "code",
   "execution_count": 9,
   "metadata": {
    "id": "rEisCeN-eG6S"
   },
   "outputs": [],
   "source": [
    "model=keras.Model(text_input,output)"
   ]
  },
  {
   "cell_type": "code",
   "execution_count": 10,
   "metadata": {
    "id": "Uan5fsuueG-M"
   },
   "outputs": [],
   "source": [
    "model.compile(loss='categorical_crossentropy',\n",
    "              optimizer='adam',\n",
    "              metrics=['accuracy'])"
   ]
  },
  {
   "cell_type": "code",
   "execution_count": 11,
   "metadata": {
    "colab": {
     "base_uri": "https://localhost:8080/"
    },
    "id": "LAdTCRdUhGyp",
    "outputId": "327f4c56-45f3-4147-a9b7-83fb28808762"
   },
   "outputs": [
    {
     "name": "stdout",
     "output_type": "stream",
     "text": [
      "Model: \"model\"\n",
      "__________________________________________________________________________________________________\n",
      " Layer (type)                   Output Shape         Param #     Connected to                     \n",
      "==================================================================================================\n",
      " Text (InputLayer)              [(None,)]            0           []                               \n",
      "                                                                                                  \n",
      " keras_layer (KerasLayer)       {'input_mask': (Non  0           ['Text[0][0]']                   \n",
      "                                e, 128),                                                          \n",
      "                                 'input_word_ids':                                                \n",
      "                                (None, 128),                                                      \n",
      "                                 'input_type_ids':                                                \n",
      "                                (None, 128)}                                                      \n",
      "                                                                                                  \n",
      " keras_layer_1 (KerasLayer)     {'sequence_output':  109482241   ['keras_layer[0][0]',            \n",
      "                                 (None, 128, 768),                'keras_layer[0][1]',            \n",
      "                                 'default': (None,                'keras_layer[0][2]']            \n",
      "                                768),                                                             \n",
      "                                 'encoder_outputs':                                               \n",
      "                                 [(None, 128, 768),                                               \n",
      "                                 (None, 128, 768),                                                \n",
      "                                 (None, 128, 768),                                                \n",
      "                                 (None, 128, 768),                                                \n",
      "                                 (None, 128, 768),                                                \n",
      "                                 (None, 128, 768),                                                \n",
      "                                 (None, 128, 768),                                                \n",
      "                                 (None, 128, 768),                                                \n",
      "                                 (None, 128, 768),                                                \n",
      "                                 (None, 128, 768),                                                \n",
      "                                 (None, 128, 768),                                                \n",
      "                                 (None, 128, 768)],                                               \n",
      "                                 'pooled_output': (                                               \n",
      "                                None, 768)}                                                       \n",
      "                                                                                                  \n",
      " bidirectional (Bidirectional)  (None, 128, 128)     426496      ['keras_layer_1[0][12]']         \n",
      "                                                                                                  \n",
      " transformer_block (Transformer  (None, 128, 128)    338592      ['bidirectional[0][0]']          \n",
      " Block)                                                                                           \n",
      "                                                                                                  \n",
      " global_average_pooling1d (Glob  (None, 128)         0           ['transformer_block[0][0]']      \n",
      " alAveragePooling1D)                                                                              \n",
      "                                                                                                  \n",
      " dense_2 (Dense)                (None, 5)            645         ['global_average_pooling1d[0][0]'\n",
      "                                                                 ]                                \n",
      "                                                                                                  \n",
      "==================================================================================================\n",
      "Total params: 110,247,974\n",
      "Trainable params: 765,733\n",
      "Non-trainable params: 109,482,241\n",
      "__________________________________________________________________________________________________\n"
     ]
    }
   ],
   "source": [
    "model.summary()"
   ]
  },
  {
   "cell_type": "code",
   "execution_count": 12,
   "metadata": {
    "id": "O0WUYq14hJGY"
   },
   "outputs": [],
   "source": [
    "early_stopping = keras.callbacks.EarlyStopping(monitor='val_accuracy', \n",
    "                                               mode='auto', \n",
    "                                               patience=3, \n",
    "                                               verbose=1)"
   ]
  },
  {
   "cell_type": "code",
   "execution_count": null,
   "metadata": {
    "colab": {
     "base_uri": "https://localhost:8080/"
    },
    "id": "BSCcThzdhJ-Z",
    "outputId": "f66d0d8b-83b6-478b-b515-4de74ce3db5c"
   },
   "outputs": [
    {
     "name": "stdout",
     "output_type": "stream",
     "text": [
      "Epoch 1/100\n",
      "2346/2346 [==============================] - 2010s 857ms/step - loss: 0.2659 - accuracy: 0.8972 - val_loss: 0.2698 - val_accuracy: 0.8995\n",
      "Epoch 2/100\n",
      "2346/2346 [==============================] - 2035s 867ms/step - loss: 0.2607 - accuracy: 0.8986 - val_loss: 0.2621 - val_accuracy: 0.8960\n",
      "Epoch 3/100\n",
      "2346/2346 [==============================] - 2033s 867ms/step - loss: 0.2563 - accuracy: 0.8998 - val_loss: 0.2704 - val_accuracy: 0.8937\n",
      "Epoch 4/100\n",
      "2346/2346 [==============================] - 2032s 866ms/step - loss: 0.2527 - accuracy: 0.9010 - val_loss: 0.2567 - val_accuracy: 0.9005\n",
      "Epoch 5/100\n",
      "2346/2346 [==============================] - 2029s 865ms/step - loss: 0.2500 - accuracy: 0.9025 - val_loss: 0.2711 - val_accuracy: 0.8999\n",
      "Epoch 6/100\n",
      "2346/2346 [==============================] - 2028s 864ms/step - loss: 0.2472 - accuracy: 0.9024 - val_loss: 0.2597 - val_accuracy: 0.8997\n",
      "Epoch 7/100\n",
      "2346/2346 [==============================] - 2031s 866ms/step - loss: 0.2451 - accuracy: 0.9034 - val_loss: 0.2551 - val_accuracy: 0.8989\n",
      "Epoch 00007: early stopping\n"
     ]
    }
   ],
   "source": [
    "hist = model.fit(x_train, y_train, \n",
    "          epochs=100, \n",
    "          batch_size=32, \n",
    "          verbose=1,\n",
    "          callbacks=[early_stopping],\n",
    "          validation_data=(x_val, y_val))"
   ]
  },
  {
   "cell_type": "code",
   "execution_count": null,
   "metadata": {
    "colab": {
     "base_uri": "https://localhost:8080/",
     "height": 438
    },
    "id": "UEIV2zmhhOuX",
    "outputId": "18d5c30c-24a9-48db-c18b-3f2dae986d28"
   },
   "outputs": [
    {
     "data": {
      "image/png": "[encoded data removed]",
      "text/plain": [
       "<Figure size 800x500 with 1 Axes>"
      ]
     },
     "metadata": {
      "needs_background": "light"
     },
     "output_type": "display_data"
    }
   ],
   "source": [
    "matplotlib.rcParams['figure.dpi'] = 100\n",
    "\n",
    "def plot(history):\n",
    "    pd.DataFrame(history.history).plot(figsize=(8, 5))\n",
    "    plt.grid(True)\n",
    "    plt.show()\n",
    "    \n",
    "plot(hist)"
   ]
  },
  {
   "cell_type": "code",
   "execution_count": null,
   "metadata": {
    "colab": {
     "base_uri": "https://localhost:8080/"
    },
    "id": "JnCCoSHLipj1",
    "outputId": "e3cca5d1-d09e-40f6-dc7d-c5ffba46c180"
   },
   "outputs": [
    {
     "name": "stdout",
     "output_type": "stream",
     "text": [
      "514/514 [==============================] - 345s 670ms/step - loss: 0.3465 - accuracy: 0.8802\n"
     ]
    },
    {
     "data": {
      "text/plain": [
       "[0.3464691936969757, 0.880172848701477]"
      ]
     },
     "execution_count": 19,
     "metadata": {},
     "output_type": "execute_result"
    }
   ],
   "source": [
    "model.evaluate(x_test, y_test)"
   ]
  },
  {
   "cell_type": "code",
   "execution_count": 14,
   "metadata": {
    "id": "WRT0DuY-l936"
   },
   "outputs": [
    {
     "name": "stdout",
     "output_type": "stream",
     "text": [
      "The model accuracy is : 0.88\n"
     ]
    }
   ],
   "source": [
    "print('The model accuracy is : 0.88')"
   ]
  },
  {
   "cell_type": "code",
   "execution_count": 19,
   "metadata": {},
   "outputs": [
    {
     "data": {
      "image/png": "[encoded data removed]",
      "text/plain": [
       "<Figure size 432x288 with 1 Axes>"
      ]
     },
     "metadata": {
      "needs_background": "light"
     },
     "output_type": "display_data"
    }
   ],
   "source": [
    "models=('Model 1', 'Model 2','Model 3','Model4','Model 5')\n",
    "y_pos = np.arange(len(models))\n",
    "accuracy=[0.54,0.77,0.78,0.78,0.88]\n",
    "plt.bar(y_pos, accuracy, align='center', alpha=0.8, color='red')\n",
    "plt.xticks(y_pos, models)\n",
    "plt.ylabel('Accuracy')\n",
    "plt.show()"
   ]
  }
 ],
 "metadata": {
  "accelerator": "GPU",
  "colab": {
   "name": "MRDA_BERT(EncoderOutput)+BiLSTM+SelfAttention+AvgPooling.ipynb",
   "provenance": []
  },
  "kernelspec": {
   "display_name": "Python 3",
   "language": "python",
   "name": "python3"
  },
  "language_info": {
   "codemirror_mode": {
    "name": "ipython",
    "version": 3
   },
   "file_extension": ".py",
   "mimetype": "text/x-python",
   "name": "python",
   "nbconvert_exporter": "python",
   "pygments_lexer": "ipython3",
   "version": "3.8.5"
  }
 },
 "nbformat": 4,
 "nbformat_minor": 4
}
