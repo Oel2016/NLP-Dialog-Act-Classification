{
 "cells": [
  {
   "cell_type": "markdown",
   "metadata": {},
   "source": [
    "### Third Notebook : Keras Embedding + BiLSTM + Attention "
   ]
  },
  {
   "cell_type": "code",
   "execution_count": 3,
   "metadata": {},
   "outputs": [],
   "source": [
    "# Importing Libraries\n",
    "import re\n",
    "import numpy as np\n",
    "import pandas as pd\n",
    "from matplotlib.pyplot import *\n",
    "import keras\n",
    "from keras.models import load_model\n",
    "from keras.layers import *\n",
    "from keras.preprocessing.text import Tokenizer \n",
    "from keras.preprocessing.sequence import pad_sequences\n",
    "from keras.layers import *\n",
    "from keras import backend as K\n",
    "from keras import layers"
   ]
  },
  {
   "cell_type": "markdown",
   "metadata": {},
   "source": [
    "#### Utility Functions "
   ]
  },
  {
   "cell_type": "code",
   "execution_count": 4,
   "metadata": {},
   "outputs": [],
   "source": [
    "def processing(data):\n",
    "    data['Utterances'] = data['Utterances'].apply(lambda x: x.lower())\n",
    "    data['Utterances'] = data['Utterances'].apply(lambda x: re.sub('[^a-zA-z0-9\\s]','',x))\n",
    "\n",
    "    y = pd.get_dummies(data['Basic']).values\n",
    "\n",
    "    return data,y"
   ]
  },
  {
   "cell_type": "code",
   "execution_count": 6,
   "metadata": {},
   "outputs": [],
   "source": [
    "data = pd.read_csv('../Datasets/MRDA/mrda_data/full_set.txt', sep='|')\n",
    "data.columns=['Speaker','Utterances','Basic','General','Full']\n",
    "MAX_PADDING = 100\n",
    "def x_value(data):\n",
    "    tokenizer = Tokenizer(num_words = 5000, split=\" \")\n",
    "    tokenizer.fit_on_texts(data['Utterances'].values)\n",
    "    x = tokenizer.texts_to_sequences(data['Utterances'].values)\n",
    "    x = pad_sequences(x, padding='post', maxlen=MAX_PADDING)\n",
    "    \n",
    "    return x"
   ]
  },
  {
   "cell_type": "code",
   "execution_count": 7,
   "metadata": {},
   "outputs": [],
   "source": [
    "train_data = pd.read_csv('../Datasets/MRDA/mrda_data/full_set.txt', sep='|')\n",
    "train_data.columns=['Speaker','Utterances','Basic','General','Full']\n",
    "train_data,y_train = processing(train_data)\n",
    "x_train = x_value(train_data)\n",
    "\n",
    "val_data = pd.read_csv('../Datasets/MRDA/mrda_data/train_set.txt', sep='|')\n",
    "val_data.columns=['Speaker','Utterances','Basic','General','Full']\n",
    "val_data,y_val = processing(val_data)\n",
    "x_val = x_value(val_data)\n",
    "\n",
    "test_data = pd.read_csv('../Datasets/MRDA/mrda_data/test_set.txt', sep='|')\n",
    "test_data.columns=['Speaker','Utterances','Basic','General','Full']\n",
    "test_data,y_test = processed_data(test_data)\n",
    "x_test = x_value(test_data)"
   ]
  },
  {
   "cell_type": "markdown",
   "metadata": {},
   "source": [
    "### Attention Mechanism Coding  "
   ]
  },
  {
   "cell_type": "code",
   "execution_count": 10,
   "metadata": {},
   "outputs": [],
   "source": [
    "from keras.layers import Layer\n",
    "import keras.backend as K\n",
    "\n",
    "class attention(Layer):\n",
    "    def __init__(self,**kwargs):\n",
    "        super(attention,self).__init__(**kwargs)\n",
    "\n",
    "    def build(self,input_shape):\n",
    "        self.W=self.add_weight(name=\"att_weight\",shape=(input_shape[-1],1),initializer=\"normal\")\n",
    "        self.b=self.add_weight(name=\"att_bias\",shape=(input_shape[1],1),initializer=\"zeros\")        \n",
    "        super(attention, self).build(input_shape)\n",
    "\n",
    "    def call(self,x):\n",
    "        et=K.squeeze(K.tanh(K.dot(x,self.W)+self.b),axis=-1)\n",
    "        at=K.softmax(et)\n",
    "        at=K.expand_dims(at,axis=-1)\n",
    "        output=x*at\n",
    "        return K.sum(output,axis=1)\n",
    "\n",
    "    def compute_output_shape(self,input_shape):\n",
    "        return (input_shape[0],input_shape[-1])\n",
    "\n",
    "    def get_config(self):\n",
    "        return super(attention,self).get_config()"
   ]
  },
  {
   "cell_type": "code",
   "execution_count": 11,
   "metadata": {},
   "outputs": [],
   "source": [
    "inputs1=Input(shape=(100,))\n",
    "\n",
    "x1=Embedding(input_dim=5000,\n",
    "             output_dim=300,\n",
    "             input_length=100,\n",
    "             embeddings_regularizer=keras.regularizers.l2(.001))(inputs1)\n",
    "\n",
    "x1=Bidirectional(LSTM(units=20,\n",
    "                      dropout=0.3,\n",
    "                      recurrent_dropout=0.2,\n",
    "                      return_sequences = True))(x1)\n",
    "\n",
    "x1=attention()(x1)\n",
    "\n",
    "output=Dense(5,activation='softmax')(x1) \n",
    "\n",
    "model=keras.Model(inputs1,output)"
   ]
  },
  {
   "cell_type": "code",
   "execution_count": 12,
   "metadata": {},
   "outputs": [
    {
     "name": "stdout",
     "output_type": "stream",
     "text": [
      "Model: \"model\"\n",
      "_________________________________________________________________\n",
      "Layer (type)                 Output Shape              Param #   \n",
      "=================================================================\n",
      "input_2 (InputLayer)         [(None, 100)]             0         \n",
      "_________________________________________________________________\n",
      "embedding_1 (Embedding)      (None, 100, 300)          1500000   \n",
      "_________________________________________________________________\n",
      "bidirectional_1 (Bidirection (None, 100, 40)           51360     \n",
      "_________________________________________________________________\n",
      "attention (attention)        (None, 40)                140       \n",
      "_________________________________________________________________\n",
      "dense (Dense)                (None, 5)                 205       \n",
      "=================================================================\n",
      "Total params: 1,551,705\n",
      "Trainable params: 1,551,705\n",
      "Non-trainable params: 0\n",
      "_________________________________________________________________\n"
     ]
    }
   ],
   "source": [
    "model.compile(loss='categorical_crossentropy',\n",
    "              optimizer='adam',\n",
    "              metrics=['accuracy'])\n",
    "model.summary()"
   ]
  },
  {
   "cell_type": "code",
   "execution_count": 9,
   "metadata": {},
   "outputs": [
    {
     "name": "stdout",
     "output_type": "stream",
     "text": [
      "('You must install pydot (`pip install pydot`) and install graphviz (see instructions at https://graphviz.gitlab.io/download/) ', 'for plot_model/model_to_dot to work.')\n"
     ]
    }
   ],
   "source": [
    "from keras.utils.vis_utils import plot_model\n",
    "plot_model(model, show_shapes=True, dpi=90)"
   ]
  },
  {
   "cell_type": "code",
   "execution_count": 10,
   "metadata": {},
   "outputs": [
    {
     "name": "stdout",
     "output_type": "stream",
     "text": [
      "Epoch 1/100\n",
      "2346/2346 [==============================] - 323s 136ms/step - loss: 1.0376 - accuracy: 0.6264 - val_loss: 1.0162 - val_accuracy: 0.5821\n",
      "Epoch 2/100\n",
      "2346/2346 [==============================] - 332s 141ms/step - loss: 0.9325 - accuracy: 0.6508 - val_loss: 0.9549 - val_accuracy: 0.6183\n",
      "Epoch 3/100\n",
      "2346/2346 [==============================] - 332s 141ms/step - loss: 0.8390 - accuracy: 0.7038 - val_loss: 0.7825 - val_accuracy: 0.7527\n",
      "Epoch 4/100\n",
      "2346/2346 [==============================] - 332s 142ms/step - loss: 0.7182 - accuracy: 0.7668 - val_loss: 0.7512 - val_accuracy: 0.7514\n",
      "Epoch 5/100\n",
      "2346/2346 [==============================] - 333s 142ms/step - loss: 0.6814 - accuracy: 0.7772 - val_loss: 0.7281 - val_accuracy: 0.7593\n",
      "Epoch 6/100\n",
      "2346/2346 [==============================] - 334s 142ms/step - loss: 0.6657 - accuracy: 0.7826 - val_loss: 0.7253 - val_accuracy: 0.7627\n",
      "Epoch 7/100\n",
      "2346/2346 [==============================] - 335s 143ms/step - loss: 0.6559 - accuracy: 0.7850 - val_loss: 0.7072 - val_accuracy: 0.7693\n",
      "Epoch 8/100\n",
      "2346/2346 [==============================] - 334s 143ms/step - loss: 0.6471 - accuracy: 0.7876 - val_loss: 0.7062 - val_accuracy: 0.7690\n",
      "Epoch 9/100\n",
      "2346/2346 [==============================] - 337s 144ms/step - loss: 0.6422 - accuracy: 0.7889 - val_loss: 0.7112 - val_accuracy: 0.7620\n",
      "Epoch 10/100\n",
      "2346/2346 [==============================] - 336s 143ms/step - loss: 0.6399 - accuracy: 0.7893 - val_loss: 0.7018 - val_accuracy: 0.7681\n",
      "Epoch 11/100\n",
      "2346/2346 [==============================] - 335s 143ms/step - loss: 0.6378 - accuracy: 0.7916 - val_loss: 0.6990 - val_accuracy: 0.7675\n",
      "Epoch 12/100\n",
      "2346/2346 [==============================] - 336s 143ms/step - loss: 0.6339 - accuracy: 0.7920 - val_loss: 0.6934 - val_accuracy: 0.7730\n",
      "Epoch 13/100\n",
      "2346/2346 [==============================] - 335s 143ms/step - loss: 0.6329 - accuracy: 0.7922 - val_loss: 0.6916 - val_accuracy: 0.7720\n",
      "Epoch 14/100\n",
      "2346/2346 [==============================] - 336s 143ms/step - loss: 0.6298 - accuracy: 0.7937 - val_loss: 0.6973 - val_accuracy: 0.7734\n",
      "Epoch 15/100\n",
      "2346/2346 [==============================] - 336s 143ms/step - loss: 0.6294 - accuracy: 0.7940 - val_loss: 0.7037 - val_accuracy: 0.7692\n",
      "Epoch 16/100\n",
      "2346/2346 [==============================] - 346s 148ms/step - loss: 0.6266 - accuracy: 0.7947 - val_loss: 0.6935 - val_accuracy: 0.7698\n",
      "Epoch 17/100\n",
      "2346/2346 [==============================] - 338s 144ms/step - loss: 0.6257 - accuracy: 0.7950 - val_loss: 0.6948 - val_accuracy: 0.7708\n",
      "Epoch 18/100\n",
      "2346/2346 [==============================] - 337s 144ms/step - loss: 0.6238 - accuracy: 0.7962 - val_loss: 0.6862 - val_accuracy: 0.7737\n",
      "Epoch 19/100\n",
      "2346/2346 [==============================] - 346s 148ms/step - loss: 0.6218 - accuracy: 0.7972 - val_loss: 0.6925 - val_accuracy: 0.7759\n",
      "Epoch 20/100\n",
      "2346/2346 [==============================] - 350s 149ms/step - loss: 0.6211 - accuracy: 0.7971 - val_loss: 0.6858 - val_accuracy: 0.7736\n",
      "Epoch 00020: early stopping\n"
     ]
    }
   ],
   "source": [
    "early_stopping = keras.callbacks.EarlyStopping(monitor='accuracy', \n",
    "                                               mode='auto', \n",
    "                                               patience=1, \n",
    "                                               verbose=1)\n",
    "\n",
    "hist = model.fit(x_train, y_train, \n",
    "          epochs=100, \n",
    "          batch_size=32, \n",
    "          verbose=1,\n",
    "          callbacks=[early_stopping],\n",
    "          validation_data=(x_val, y_val))"
   ]
  },
  {
   "cell_type": "code",
   "execution_count": 11,
   "metadata": {},
   "outputs": [
    {
     "name": "stdout",
     "output_type": "stream",
     "text": [
      "522/522 [==============================] - 10s 19ms/step - loss: 0.6485 - accuracy: 0.7845\n"
     ]
    },
    {
     "data": {
      "text/plain": [
       "[0.648459792137146, 0.7845039367675781]"
      ]
     },
     "execution_count": 11,
     "metadata": {},
     "output_type": "execute_result"
    }
   ],
   "source": [
    "model.evaluate(x_test, y_test)"
   ]
  },
  {
   "cell_type": "code",
   "execution_count": 15,
   "metadata": {},
   "outputs": [],
   "source": [
    "import matplotlib.pyplot as plt\n",
    "import matplotlib\n",
    "import pandas as pd\n",
    "\n",
    "matplotlib.rcParams['figure.dpi'] = 100\n",
    "\n",
    "\n",
    "def plot(history):\n",
    "    pd.DataFrame(history.history).plot(figsize=(8, 5))\n",
    "    plt.grid(True)\n",
    "    #plt.gca().set_ylim(0,1)\n",
    "    plt.show()"
   ]
  },
  {
   "cell_type": "code",
   "execution_count": 16,
   "metadata": {},
   "outputs": [
    {
     "data": {
      "image/png": "[encoded data removed]",
      "text/plain": [
       "<Figure size 800x500 with 1 Axes>"
      ]
     },
     "metadata": {
      "needs_background": "light"
     },
     "output_type": "display_data"
    }
   ],
   "source": [
    "plot(hist)"
   ]
  },
  {
   "cell_type": "code",
   "execution_count": 1,
   "metadata": {},
   "outputs": [
    {
     "name": "stdout",
     "output_type": "stream",
     "text": [
      "The model accuracy is : 0.78\n"
     ]
    }
   ],
   "source": [
    "print('The model accuracy is : 0.78')"
   ]
  }
 ],
 "metadata": {
  "kernelspec": {
   "display_name": "Python 3",
   "language": "python",
   "name": "python3"
  },
  "language_info": {
   "codemirror_mode": {
    "name": "ipython",
    "version": 3
   },
   "file_extension": ".py",
   "mimetype": "text/x-python",
   "name": "python",
   "nbconvert_exporter": "python",
   "pygments_lexer": "ipython3",
   "version": "3.8.5"
  }
 },
 "nbformat": 4,
 "nbformat_minor": 5
}
