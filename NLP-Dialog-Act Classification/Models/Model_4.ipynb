{
 "cells": [
  {
   "cell_type": "markdown",
   "metadata": {},
   "source": [
    "### Fourth Notebook :KerasEmbedding + BiLSTM + Attention-based + Context-aware"
   ]
  },
  {
   "cell_type": "code",
   "execution_count": 1,
   "metadata": {},
   "outputs": [],
   "source": [
    "#Imporitng Libraries\n",
    "import re\n",
    "import numpy as np\n",
    "import pandas as pd\n",
    "from matplotlib.pyplot import *\n",
    "import keras\n",
    "from keras.models import load_model\n",
    "from keras.layers import *\n",
    "from keras.preprocessing.text import Tokenizer \n",
    "from keras.preprocessing.sequence import pad_sequences\n",
    "from keras.layers import *\n",
    "from keras import layers\n",
    "from keras.models import Model"
   ]
  },
  {
   "cell_type": "code",
   "execution_count": 2,
   "metadata": {},
   "outputs": [],
   "source": [
    "def processing(data):\n",
    "    data['Utterances'] = data['Utterances'].apply(lambda x: x.lower())\n",
    "    data['Utterances'] = data['Utterances'].apply(lambda x: re.sub('[^a-zA-z0-9\\s]','',x))\n",
    "\n",
    "    y = pd.get_dummies(data['Basic']).values\n",
    "\n",
    "    return data,y"
   ]
  },
  {
   "cell_type": "code",
   "execution_count": 4,
   "metadata": {},
   "outputs": [],
   "source": [
    "data = pd.read_csv('../Datasets/MRDA/mrda_data/full_set.txt', sep='|')\n",
    "data.columns=['Speaker','Utterances','Basic','General','Full']\n",
    "MAX_PADDING = 100\n",
    "def x_value(data):\n",
    "    tokenizer = Tokenizer(num_words = 5000, split=\" \")\n",
    "    tokenizer.fit_on_texts(data['Utterances'].values)\n",
    "    x = tokenizer.texts_to_sequences(data['Utterances'].values)\n",
    "    x = pad_sequences(x, padding='post', maxlen=MAX_PADDING)\n",
    "    \n",
    "    return x"
   ]
  },
  {
   "cell_type": "code",
   "execution_count": 5,
   "metadata": {},
   "outputs": [],
   "source": [
    "train_data = pd.read_csv('../Datasets/MRDA/mrda_data/full_set.txt', sep='|')\n",
    "train_data.columns=['Speaker','Utterances','Basic','General','Full']\n",
    "train_data,y_train = processing(train_data)\n",
    "x_train = x_value(train_data)\n",
    "\n",
    "val_data = pd.read_csv('../Datasets/MRDA/mrda_data/train_set.txt', sep='|')\n",
    "val_data.columns=['Speaker','Utterances','Basic','General','Full']\n",
    "val_data,y_val = processing(val_data)\n",
    "x_val = x_value(val_data)\n",
    "\n",
    "test_data = pd.read_csv('../Datasets/MRDA/mrda_data/test_set.txt', sep='|')\n",
    "test_data.columns=['Speaker','Utterances','Basic','General','Full']\n",
    "test_data,y_test = processing(test_data)\n",
    "x_test = x_value(test_data)"
   ]
  },
  {
   "cell_type": "code",
   "execution_count": 6,
   "metadata": {},
   "outputs": [],
   "source": [
    "def prevevious_utterrance_generator(x):\n",
    "    shape = x.shape \n",
    "    zeros = shape[1]\n",
    "    zero_array = np.zeros((1, zeros))\n",
    "    array = np.concatenate((zero_array, x))\n",
    "    req_array = array[:-1]\n",
    "    return req_array"
   ]
  },
  {
   "cell_type": "code",
   "execution_count": 7,
   "metadata": {},
   "outputs": [],
   "source": [
    "x_train_prev = prevevious_utterrance_generator(x_train)\n",
    "x_val_prev = prevevious_utterrance_generator(x_val)\n",
    "x_test_prev = prevevious_utterrance_generator(x_test)"
   ]
  },
  {
   "cell_type": "code",
   "execution_count": 9,
   "metadata": {},
   "outputs": [],
   "source": [
    "from keras.layers import Layer\n",
    "import keras.backend as K\n",
    "\n",
    "# Add attention layer to the deep learning network\n",
    "class attention(Layer):\n",
    "    def __init__(self,**kwargs):\n",
    "        super(attention,self).__init__(**kwargs)\n",
    "\n",
    "    def build(self,input_shape):\n",
    "        self.W=self.add_weight(name='attention_weight', shape=(input_shape[-1],1), \n",
    "                               initializer='random_normal', trainable=True)\n",
    "        self.b=self.add_weight(name='attention_bias', shape=(input_shape[1],1), \n",
    "                               initializer='zeros', trainable=True)        \n",
    "        super(attention, self).build(input_shape)\n",
    "\n",
    "    def call(self,x):\n",
    "        # Alignment scores. Pass them through tanh function\n",
    "        e = K.tanh(K.dot(x,self.W)+self.b)\n",
    "        # Remove dimension of size 1\n",
    "        e = K.squeeze(e, axis=-1)   \n",
    "        # Compute the weights\n",
    "        alpha = K.softmax(e)\n",
    "        # Reshape to tensorFlow format\n",
    "        alpha = K.expand_dims(alpha, axis=-1)\n",
    "        # Compute the context vector\n",
    "        context = x * alpha\n",
    "        context = K.sum(context, axis=1)\n",
    "        return context"
   ]
  },
  {
   "cell_type": "code",
   "execution_count": 10,
   "metadata": {},
   "outputs": [],
   "source": [
    "curr_utterance_input = Input(shape=(100), name='current_utterance_input')\n",
    "\n",
    "curr_embedding = Embedding(input_dim=5000,\n",
    "                           output_dim=300,\n",
    "                           input_length=100,\n",
    "                           embeddings_regularizer=keras.regularizers.l2(.001))(curr_utterance_input)\n",
    "\n",
    "curr_bilstm = Bidirectional(LSTM(units=20,\n",
    "                            dropout=0.3,\n",
    "                            recurrent_dropout=0.2,\n",
    "                            return_sequences = True))(curr_embedding)\n",
    "\n",
    "#attention on word level(on a single utterance)\n",
    "utt_attention = attention()(curr_bilstm)\n",
    "\n",
    "curr_output=Dense(5)(utt_attention) \n",
    "\n",
    "\n",
    "#Context of previous utterance\n",
    "prev_utterance_input = Input(shape=(100,), name='previous_utterance_input')\n",
    "\n",
    "prev_embedding =Embedding(input_dim=5000,\n",
    "                          output_dim=300,\n",
    "                          input_length=100,\n",
    "                          embeddings_regularizer=keras.regularizers.l2(.001))(prev_utterance_input)\n",
    "\n",
    "prev_bilstm =Bidirectional(LSTM(units=20,\n",
    "                                dropout=0.3,\n",
    "                                recurrent_dropout=0.2,\n",
    "                                return_sequences = False))(prev_embedding)\n",
    "\n",
    "prev_output=Dense(5)(prev_bilstm) \n",
    "\n",
    "\n",
    "concat = concatenate([curr_output, prev_output], name='Concatenate')\n",
    "\n",
    "reshape = Reshape((-1, 10))(concat)\n",
    "\n",
    "context_attention = attention()(reshape)\n",
    "\n",
    "final_model_output = Dense(5, activation='softmax')(context_attention)\n",
    "\n",
    "final_model = Model(inputs=[prev_utterance_input, curr_utterance_input],\n",
    "                    outputs=final_model_output,\n",
    "                    name='Final_output')"
   ]
  },
  {
   "cell_type": "code",
   "execution_count": 11,
   "metadata": {},
   "outputs": [
    {
     "name": "stdout",
     "output_type": "stream",
     "text": [
      "Model: \"Final_output\"\n",
      "__________________________________________________________________________________________________\n",
      "Layer (type)                    Output Shape         Param #     Connected to                     \n",
      "==================================================================================================\n",
      "current_utterance_input (InputL [(None, 100)]        0                                            \n",
      "__________________________________________________________________________________________________\n",
      "embedding_1 (Embedding)         (None, 100, 300)     1500000     current_utterance_input[0][0]    \n",
      "__________________________________________________________________________________________________\n",
      "previous_utterance_input (Input [(None, 100)]        0                                            \n",
      "__________________________________________________________________________________________________\n",
      "bidirectional_1 (Bidirectional) (None, 100, 40)      51360       embedding_1[0][0]                \n",
      "__________________________________________________________________________________________________\n",
      "embedding_2 (Embedding)         (None, 100, 300)     1500000     previous_utterance_input[0][0]   \n",
      "__________________________________________________________________________________________________\n",
      "attention (attention)           (None, 40)           140         bidirectional_1[0][0]            \n",
      "__________________________________________________________________________________________________\n",
      "bidirectional_2 (Bidirectional) (None, 40)           51360       embedding_2[0][0]                \n",
      "__________________________________________________________________________________________________\n",
      "dense (Dense)                   (None, 5)            205         attention[0][0]                  \n",
      "__________________________________________________________________________________________________\n",
      "dense_1 (Dense)                 (None, 5)            205         bidirectional_2[0][0]            \n",
      "__________________________________________________________________________________________________\n",
      "Concatenate (Concatenate)       (None, 10)           0           dense[0][0]                      \n",
      "                                                                 dense_1[0][0]                    \n",
      "__________________________________________________________________________________________________\n",
      "reshape (Reshape)               (None, 1, 10)        0           Concatenate[0][0]                \n",
      "__________________________________________________________________________________________________\n",
      "attention_1 (attention)         (None, 10)           11          reshape[0][0]                    \n",
      "__________________________________________________________________________________________________\n",
      "dense_2 (Dense)                 (None, 5)            55          attention_1[0][0]                \n",
      "==================================================================================================\n",
      "Total params: 3,103,336\n",
      "Trainable params: 3,103,336\n",
      "Non-trainable params: 0\n",
      "__________________________________________________________________________________________________\n"
     ]
    }
   ],
   "source": [
    "final_model.compile(loss='categorical_crossentropy',\n",
    "                    optimizer='adam',\n",
    "                    metrics=['accuracy'])\n",
    "final_model.summary()"
   ]
  },
  {
   "cell_type": "code",
   "execution_count": 12,
   "metadata": {},
   "outputs": [],
   "source": [
    "early_stopping = keras.callbacks.EarlyStopping(monitor='accuracy', \n",
    "                                               mode='auto', \n",
    "                                               patience=3, \n",
    "                                               verbose=1)"
   ]
  },
  {
   "cell_type": "code",
   "execution_count": 13,
   "metadata": {},
   "outputs": [
    {
     "name": "stdout",
     "output_type": "stream",
     "text": [
      "Epoch 1/100\n",
      "2346/2346 [==============================] - 831s 351ms/step - loss: 0.7559 - accuracy: 0.7485 - val_loss: 0.7408 - val_accuracy: 0.7520\n",
      "Epoch 2/100\n",
      "2346/2346 [==============================] - 845s 360ms/step - loss: 0.6654 - accuracy: 0.7768 - val_loss: 0.7188 - val_accuracy: 0.7598\n",
      "Epoch 3/100\n",
      "2346/2346 [==============================] - 895s 382ms/step - loss: 0.6517 - accuracy: 0.7839 - val_loss: 0.7280 - val_accuracy: 0.7457\n",
      "Epoch 4/100\n",
      "2346/2346 [==============================] - 1083s 462ms/step - loss: 0.6453 - accuracy: 0.7864 - val_loss: 0.7064 - val_accuracy: 0.7675\n",
      "Epoch 5/100\n",
      "2346/2346 [==============================] - 1141s 486ms/step - loss: 0.6396 - accuracy: 0.7875 - val_loss: 0.7132 - val_accuracy: 0.7627\n",
      "Epoch 6/100\n",
      "2346/2346 [==============================] - 1011s 431ms/step - loss: 0.6365 - accuracy: 0.7896 - val_loss: 0.7010 - val_accuracy: 0.7711\n",
      "Epoch 7/100\n",
      "2346/2346 [==============================] - 1188s 506ms/step - loss: 0.6317 - accuracy: 0.7929 - val_loss: 0.6896 - val_accuracy: 0.7691\n",
      "Epoch 8/100\n",
      "2346/2346 [==============================] - 1116s 476ms/step - loss: 0.6303 - accuracy: 0.7919 - val_loss: 0.7071 - val_accuracy: 0.7705\n",
      "Epoch 9/100\n",
      "2346/2346 [==============================] - 1272s 542ms/step - loss: 0.6277 - accuracy: 0.7921 - val_loss: 0.6929 - val_accuracy: 0.7708\n",
      "Epoch 10/100\n",
      "2346/2346 [==============================] - 1294s 552ms/step - loss: 0.6264 - accuracy: 0.7934 - val_loss: 0.7077 - val_accuracy: 0.7693\n",
      "Epoch 11/100\n",
      "2346/2346 [==============================] - 1262s 538ms/step - loss: 0.6262 - accuracy: 0.7928 - val_loss: 0.6867 - val_accuracy: 0.7727\n",
      "Epoch 12/100\n",
      "2346/2346 [==============================] - 1322s 563ms/step - loss: 0.6245 - accuracy: 0.7952 - val_loss: 0.6942 - val_accuracy: 0.7741\n",
      "Epoch 13/100\n",
      "2346/2346 [==============================] - 1336s 569ms/step - loss: 0.6238 - accuracy: 0.7948 - val_loss: 0.6981 - val_accuracy: 0.7722\n",
      "Epoch 14/100\n",
      "2346/2346 [==============================] - 1349s 575ms/step - loss: 0.6220 - accuracy: 0.7966 - val_loss: 0.6946 - val_accuracy: 0.7709\n",
      "Epoch 15/100\n",
      "2346/2346 [==============================] - 1371s 584ms/step - loss: 0.6225 - accuracy: 0.7969 - val_loss: 0.6876 - val_accuracy: 0.7725\n",
      "Epoch 16/100\n",
      "2346/2346 [==============================] - 1286s 548ms/step - loss: 0.6201 - accuracy: 0.7974 - val_loss: 0.6898 - val_accuracy: 0.7756\n",
      "Epoch 17/100\n",
      "2346/2346 [==============================] - 1290s 550ms/step - loss: 0.6209 - accuracy: 0.7968 - val_loss: 0.6915 - val_accuracy: 0.7748\n",
      "Epoch 18/100\n",
      "2346/2346 [==============================] - 1408s 600ms/step - loss: 0.6216 - accuracy: 0.7980 - val_loss: 0.7030 - val_accuracy: 0.7708\n",
      "Epoch 19/100\n",
      "2346/2346 [==============================] - 1418s 604ms/step - loss: 0.6197 - accuracy: 0.7978 - val_loss: 0.6935 - val_accuracy: 0.7738\n",
      "Epoch 20/100\n",
      "2346/2346 [==============================] - 1423s 607ms/step - loss: 0.6196 - accuracy: 0.7978 - val_loss: 0.6922 - val_accuracy: 0.7742\n",
      "Epoch 21/100\n",
      "2346/2346 [==============================] - 1414s 603ms/step - loss: 0.6185 - accuracy: 0.7984 - val_loss: 0.6878 - val_accuracy: 0.7760\n",
      "Epoch 22/100\n",
      "2346/2346 [==============================] - 1402s 598ms/step - loss: 0.6201 - accuracy: 0.7983 - val_loss: 0.6835 - val_accuracy: 0.7764\n",
      "Epoch 23/100\n",
      "2346/2346 [==============================] - 1407s 600ms/step - loss: 0.6175 - accuracy: 0.7993 - val_loss: 0.6863 - val_accuracy: 0.7754\n",
      "Epoch 24/100\n",
      "2346/2346 [==============================] - 1369s 584ms/step - loss: 0.6177 - accuracy: 0.7982 - val_loss: 0.6933 - val_accuracy: 0.7754\n",
      "Epoch 25/100\n",
      "2346/2346 [==============================] - 1356s 578ms/step - loss: 0.6185 - accuracy: 0.7988 - val_loss: 0.6975 - val_accuracy: 0.7748\n",
      "Epoch 26/100\n",
      "2346/2346 [==============================] - 1382s 589ms/step - loss: 0.6170 - accuracy: 0.7988 - val_loss: 0.6950 - val_accuracy: 0.7764\n",
      "Epoch 00026: early stopping\n"
     ]
    }
   ],
   "source": [
    "hist = final_model.fit([x_train, x_train_prev], y_train, \n",
    "                       epochs=100, \n",
    "                       batch_size=32, \n",
    "                       verbose=1,\n",
    "                       callbacks=[early_stopping],\n",
    "                       validation_data=([x_val,x_val_prev], y_val) )"
   ]
  },
  {
   "cell_type": "code",
   "execution_count": 14,
   "metadata": {},
   "outputs": [
    {
     "data": {
      "image/png": "[encoded data removed]",
      "text/plain": [
       "<Figure size 800x500 with 1 Axes>"
      ]
     },
     "metadata": {
      "needs_background": "light"
     },
     "output_type": "display_data"
    }
   ],
   "source": [
    "import matplotlib.pyplot as plt\n",
    "import matplotlib\n",
    "\n",
    "matplotlib.rcParams['figure.dpi'] = 100\n",
    "\n",
    "\n",
    "def plot(history):\n",
    "    pd.DataFrame(history.history).plot(figsize=(8, 5))\n",
    "    plt.grid(True)\n",
    "    #plt.gca().set_ylim(0,1)\n",
    "    plt.show()\n",
    "\n",
    "plot(hist)"
   ]
  },
  {
   "cell_type": "code",
   "execution_count": 15,
   "metadata": {},
   "outputs": [
    {
     "name": "stdout",
     "output_type": "stream",
     "text": [
      "522/522 [==============================] - 113s 216ms/step - loss: 0.6550 - accuracy: 0.7846\n"
     ]
    },
    {
     "data": {
      "text/plain": [
       "[0.6550065279006958, 0.7846236824989319]"
      ]
     },
     "execution_count": 15,
     "metadata": {},
     "output_type": "execute_result"
    }
   ],
   "source": [
    "final_model.evaluate([x_test, x_test_prev], y_test)"
   ]
  },
  {
   "cell_type": "code",
   "execution_count": 12,
   "metadata": {},
   "outputs": [
    {
     "name": "stdout",
     "output_type": "stream",
     "text": [
      "The model accuracy is : 0.78\n"
     ]
    }
   ],
   "source": [
    "print('The model accuracy is : 0.78')"
   ]
  }
 ],
 "metadata": {
  "kernelspec": {
   "display_name": "Python 3",
   "language": "python",
   "name": "python3"
  },
  "language_info": {
   "codemirror_mode": {
    "name": "ipython",
    "version": 3
   },
   "file_extension": ".py",
   "mimetype": "text/x-python",
   "name": "python",
   "nbconvert_exporter": "python",
   "pygments_lexer": "ipython3",
   "version": "3.8.5"
  }
 },
 "nbformat": 4,
 "nbformat_minor": 5
}
